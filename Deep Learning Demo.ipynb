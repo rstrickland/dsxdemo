{
    "metadata": {
        "language_info": {
            "codemirror_mode": {
                "version": 2, 
                "name": "ipython"
            }, 
            "file_extension": ".py", 
            "nbconvert_exporter": "python", 
            "mimetype": "text/x-python", 
            "pygments_lexer": "ipython2", 
            "name": "python", 
            "version": "2.7.11"
        }, 
        "kernelspec": {
            "display_name": "Python 2 with Spark 1.6", 
            "language": "python", 
            "name": "python2"
        }
    }, 
    "nbformat": 4, 
    "cells": [
        {
            "metadata": {}, 
            "cell_type": "markdown", 
            "source": "# Use deep learning for image classification"
        }, 
        {
            "metadata": {
                "collapsed": true
            }, 
            "cell_type": "markdown", 
            "source": "<div style=\"text-align:center\" markdown=\"1\">\n![Image of Image to Digit](https://www.wolfram.com/mathematica/new-in-10/enhanced-image-processing/HTMLImages.en/handwritten-digits-classification/smallthumb_10.gif)\nMapping images of numbers to numbers\n</div>"
        }, 
        {
            "metadata": {}, 
            "cell_type": "markdown", 
            "source": "<a id=\"load_libraries\"></a>\n## Load libraries\n\nIf you haven't already installed it, run the following cell to install the `nolearn` deep learning Python library in your notebook environment. Then, import the the libraries that you will be using for this notebook."
        }, 
        {
            "outputs": [
                {
                    "output_type": "stream", 
                    "text": "Collecting nolearn\n  Downloading nolearn-0.6.0.tar.gz (320kB)\n\u001b[K    100% |\u2588\u2588\u2588\u2588\u2588\u2588\u2588\u2588\u2588\u2588\u2588\u2588\u2588\u2588\u2588\u2588\u2588\u2588\u2588\u2588\u2588\u2588\u2588\u2588\u2588\u2588\u2588\u2588\u2588\u2588\u2588\u2588| 327kB 3.0MB/s \n\u001b[?25hCollecting gdbn (from nolearn)\n  Downloading gdbn-0.1.tar.gz\nCollecting joblib (from nolearn)\n  Downloading joblib-0.10.3-py2.py3-none-any.whl (166kB)\n\u001b[K    100% |\u2588\u2588\u2588\u2588\u2588\u2588\u2588\u2588\u2588\u2588\u2588\u2588\u2588\u2588\u2588\u2588\u2588\u2588\u2588\u2588\u2588\u2588\u2588\u2588\u2588\u2588\u2588\u2588\u2588\u2588\u2588\u2588| 174kB 5.2MB/s \n\u001b[?25hRequirement already satisfied (use --upgrade to upgrade): scikit-learn in /usr/local/src/bluemix_jupyter_bundle.v33/notebook/lib/python2.7/site-packages (from nolearn)\nCollecting tabulate (from nolearn)\n  Downloading tabulate-0.7.7-py2.py3-none-any.whl\nCollecting Lasagne (from nolearn)\n  Downloading Lasagne-0.1.tar.gz (125kB)\n\u001b[K    100% |\u2588\u2588\u2588\u2588\u2588\u2588\u2588\u2588\u2588\u2588\u2588\u2588\u2588\u2588\u2588\u2588\u2588\u2588\u2588\u2588\u2588\u2588\u2588\u2588\u2588\u2588\u2588\u2588\u2588\u2588\u2588\u2588| 133kB 6.0MB/s \n\u001b[?25hCollecting Theano (from nolearn)\n  Downloading Theano-0.8.2.tar.gz (2.9MB)\n\u001b[K    100% |\u2588\u2588\u2588\u2588\u2588\u2588\u2588\u2588\u2588\u2588\u2588\u2588\u2588\u2588\u2588\u2588\u2588\u2588\u2588\u2588\u2588\u2588\u2588\u2588\u2588\u2588\u2588\u2588\u2588\u2588\u2588\u2588| 2.9MB 422kB/s \n\u001b[?25hCollecting gnumpy (from gdbn->nolearn)\n  Downloading gnumpy-0.2.tar.gz\nRequirement already satisfied (use --upgrade to upgrade): numpy in /usr/local/src/bluemix_jupyter_bundle.v33/notebook/lib/python2.7/site-packages (from Lasagne->nolearn)\nRequirement already satisfied (use --upgrade to upgrade): scipy>=0.11 in /usr/local/src/bluemix_jupyter_bundle.v33/notebook/lib/python2.7/site-packages (from Theano->nolearn)\nRequirement already satisfied (use --upgrade to upgrade): six>=1.9.0 in /usr/local/src/bluemix_jupyter_bundle.v33/notebook/lib/python2.7/site-packages (from Theano->nolearn)\nInstalling collected packages: gnumpy, gdbn, joblib, tabulate, Lasagne, Theano, nolearn\n  Running setup.py install for gnumpy ... \u001b[?25l-\b \bdone\n\u001b[?25h  Running setup.py install for gdbn ... \u001b[?25l-\b \bdone\n\u001b[?25h  Running setup.py install for Lasagne ... \u001b[?25l-\b \b\\\b \b|\b \bdone\n\u001b[?25h  Running setup.py install for Theano ... \u001b[?25l-\b \b\\\b \b|\b \b/\b \b-\b \b\\\b \b|\b \b/\b \b-\b \b\\\b \b|\b \b/\b \b-\b \b\\\b \b|\b \b/\b \b-\b \b\\\b \b|\b \b/\b \b-\b \b\\\b \b|\b \b/\b \bdone\n\u001b[?25h  Running setup.py install for nolearn ... \u001b[?25l-\b \bdone\n\u001b[?25hSuccessfully installed Lasagne-0.1 Theano-0.8.2 gdbn-0.1 gnumpy-0.2 joblib-0.10.3 nolearn-0.6.0 tabulate-0.7.7\n", 
                    "name": "stdout"
                }
            ], 
            "metadata": {
                "collapsed": false
            }, 
            "cell_type": "code", 
            "execution_count": 1, 
            "source": "!pip install --user nolearn"
        }, 
        {
            "outputs": [
                {
                    "output_type": "stream", 
                    "text": "gnumpy: failed to import cudamat. Using npmat instead. No GPU will be used.\n", 
                    "name": "stdout"
                }
            ], 
            "metadata": {
                "collapsed": false
            }, 
            "cell_type": "code", 
            "execution_count": 2, 
            "source": "import warnings\nwarnings.filterwarnings(\"ignore\")\nfrom sklearn.cross_validation import train_test_split\nfrom sklearn.metrics import classification_report\nfrom sklearn import datasets\nfrom nolearn.dbn import DBN\nimport numpy as np\nimport matplotlib.pyplot as plt\nimport matplotlib.image as mpimg\n%matplotlib inline"
        }, 
        {
            "metadata": {}, 
            "cell_type": "markdown", 
            "source": "<a id=\"access_data\"></a>\n## Access data\n\nMNIST is a database of handwritten numbers. Because it uses real-world data, it is an ideal database for training neural networks and machine learning tools that use pattern recognition.\n\nRun the following cell to get the MNIST data set of images of handwritten numbers:"
        }, 
        {
            "outputs": [], 
            "metadata": {
                "collapsed": true
            }, 
            "cell_type": "code", 
            "execution_count": 3, 
            "source": "mnist = datasets.fetch_mldata(\"MNIST Original\")"
        }, 
        {
            "metadata": {}, 
            "cell_type": "markdown", 
            "source": "Then split the images into training and testing data sets:"
        }, 
        {
            "outputs": [
                {
                    "output_type": "stream", 
                    "text": "Number of images for training: 46900\nNumber of images used for testing: 46900\nEach image is: 28 by 28 pixels\n", 
                    "name": "stdout"
                }
            ], 
            "metadata": {
                "collapsed": false
            }, 
            "cell_type": "code", 
            "execution_count": 4, 
            "source": "trX, teX, trY, teY = train_test_split(mnist.data / 255.0, mnist.target.astype(\"int0\"), test_size = 0.33)\nprint \"Number of images for training:\", trX.shape[0]\nprint \"Number of images used for testing:\", trY.shape[0]\npix = int(np.sqrt(teX.shape[1]))\nprint \"Each image is:\", pix, \"by\", pix, \"pixels\""
        }, 
        {
            "metadata": {}, 
            "cell_type": "markdown", 
            "source": "<a id=\"train_model\"></a>\n## Train the pattern recognition model\n\nThis notebook shows you how to train a pattern recognition model for handwritten numbers by using the Deep Belief Network (DBN) solver.\nThe DBN solver is trained on approximately 47,000 images each with 784 pixels (28 by 28 before vectorizing) and uses 300 hidden units to support more efficient learning rates. The ten output units correspond to each of the single digit numbers (0 - 9). The results of the learning algorithms have an accuracy of 98 percent.\n\nRun the following cell to train the DBN on handwritten digits. For details on the parameters used in the function, see  http://www.pyimagesearch.com/2014/09/22/getting-started-deep-learning-python/.\n"
        }, 
        {
            "outputs": [
                {
                    "output_type": "stream", 
                    "text": "1%\r", 
                    "name": "stderr"
                }, 
                {
                    "output_type": "stream", 
                    "text": "[DBN] fitting X.shape=(46900, 784)\n[DBN] layers [784, 300, 10]\n[DBN] Fine-tune...\n", 
                    "name": "stdout"
                }, 
                {
                    "output_type": "stream", 
                    "text": "100%\n", 
                    "name": "stderr"
                }, 
                {
                    "output_type": "stream", 
                    "text": "Epoch 1:\n  loss 0.282538888121\n  err  0.0825648907104\n  (0:00:07)\n", 
                    "name": "stdout"
                }, 
                {
                    "output_type": "stream", 
                    "text": "100%\n", 
                    "name": "stderr"
                }, 
                {
                    "output_type": "stream", 
                    "text": "Epoch 2:\n  loss 0.178972389321\n  err  0.0505464480874\n  (0:00:08)\n", 
                    "name": "stdout"
                }, 
                {
                    "output_type": "stream", 
                    "text": "100%\n", 
                    "name": "stderr"
                }, 
                {
                    "output_type": "stream", 
                    "text": "Epoch 3:\n  loss 0.126420147029\n  err  0.0358179644809\n  (0:00:08)\n", 
                    "name": "stdout"
                }, 
                {
                    "output_type": "stream", 
                    "text": "100%\n", 
                    "name": "stderr"
                }, 
                {
                    "output_type": "stream", 
                    "text": "Epoch 4:\n  loss 0.0940116282573\n  err  0.0274291325137\n  (0:00:08)\n", 
                    "name": "stdout"
                }, 
                {
                    "output_type": "stream", 
                    "text": "100%\n", 
                    "name": "stderr"
                }, 
                {
                    "output_type": "stream", 
                    "text": "Epoch 5:\n  loss 0.0721725129353\n  err  0.022050034153\n  (0:00:07)\n", 
                    "name": "stdout"
                }, 
                {
                    "output_type": "stream", 
                    "text": "100%\n", 
                    "name": "stderr"
                }, 
                {
                    "output_type": "stream", 
                    "text": "Epoch 6:\n  loss 0.0581243720338\n  err  0.018143784153\n  (0:00:08)\n", 
                    "name": "stdout"
                }, 
                {
                    "output_type": "stream", 
                    "text": "100%\n", 
                    "name": "stderr"
                }, 
                {
                    "output_type": "stream", 
                    "text": "Epoch 7:\n  loss 0.0422076487072\n  err  0.013106215847\n  (0:00:07)\n", 
                    "name": "stdout"
                }, 
                {
                    "output_type": "stream", 
                    "text": "100%\n", 
                    "name": "stderr"
                }, 
                {
                    "output_type": "stream", 
                    "text": "Epoch 8:\n  loss 0.0328717291947\n  err  0.0103526297814\n  (0:00:07)\n", 
                    "name": "stdout"
                }, 
                {
                    "output_type": "stream", 
                    "text": "100%\n", 
                    "name": "stderr"
                }, 
                {
                    "output_type": "stream", 
                    "text": "Epoch 9:\n  loss 0.0282093829002\n  err  0.00866632513661\n  (0:00:07)\n", 
                    "name": "stdout"
                }, 
                {
                    "output_type": "stream", 
                    "text": "100%\n", 
                    "name": "stderr"
                }, 
                {
                    "output_type": "stream", 
                    "text": "Epoch 10:\n  loss 0.0187338593177\n  err  0.00508025956284\n  (0:00:07)\n", 
                    "name": "stdout"
                }
            ], 
            "metadata": {
                "collapsed": false
            }, 
            "cell_type": "code", 
            "execution_count": 5, 
            "source": "dbn = DBN(\n    [trX.shape[1], 300, 10], \n    learn_rates = 0.3,\n    learn_rate_decays = 0.9,\n    epochs = 10, \n    verbose = 1) # set verbose to 0 for not printing output\ndbn.fit(trX, trY)"
        }, 
        {
            "metadata": {
                "collapsed": true
            }, 
            "cell_type": "markdown", 
            "source": "Then evaluate the the quality of the predictions for each digit:"
        }, 
        {
            "outputs": [
                {
                    "output_type": "stream", 
                    "text": "             precision    recall  f1-score   support\n\n          0       0.98      0.99      0.98      2259\n          1       0.99      0.99      0.99      2599\n          2       0.98      0.97      0.97      2282\n          3       0.98      0.97      0.97      2350\n          4       0.98      0.98      0.98      2223\n          5       0.97      0.98      0.97      2056\n          6       0.98      0.98      0.98      2330\n          7       0.98      0.98      0.98      2430\n          8       0.97      0.97      0.97      2294\n          9       0.98      0.96      0.97      2277\n\navg / total       0.98      0.98      0.98     23100\n\n", 
                    "name": "stdout"
                }
            ], 
            "metadata": {
                "collapsed": false
            }, 
            "cell_type": "code", 
            "execution_count": 6, 
            "source": "preds = dbn.predict(teX)\nprint classification_report(teY, preds)"
        }, 
        {
            "metadata": {}, 
            "cell_type": "markdown", 
            "source": "Define a function that randomly selects a few of the test images and their predictions:"
        }, 
        {
            "outputs": [
                {
                    "output_type": "stream", 
                    "text": "Actual digit is 1 predicted 1\n", 
                    "name": "stdout"
                }, 
                {
                    "output_type": "display_data", 
                    "metadata": {}, 
                    "data": {
                        "text/plain": "<matplotlib.figure.Figure at 0x7f94a4738690>", 
                        "image/png": "[encoded data removed]"
                    }
                }
            ], 
            "metadata": {
                "collapsed": false
            }, 
            "cell_type": "code", 
            "execution_count": 7, 
            "source": "def randIm():\n    i = np.random.choice(np.arange(0, len(teY)), size = (1,))\n    pred = dbn.predict(np.atleast_2d(teX[i]))\n    image = (teX[i] * 255).reshape((28, 28)).astype(\"uint8\")\n    # show the prediction\n    print \"Actual digit is\", teY[i][0], \"predicted\", pred[0]\n    imgplot = plt.imshow(image)\n    imgplot.set_cmap('gray')   \n\nrandIm() "
        }, 
        {
            "metadata": {}, 
            "cell_type": "markdown", 
            "source": "Run this function several times to see randomly picked examples from the test data set:"
        }, 
        {
            "outputs": [
                {
                    "output_type": "stream", 
                    "text": "Actual digit is 2 predicted 2\n", 
                    "name": "stdout"
                }, 
                {
                    "output_type": "display_data", 
                    "metadata": {}, 
                    "data": {
                        "text/plain": "<matplotlib.figure.Figure at 0x7f94900d0350>", 
                        "image/png": "[encoded data removed]"
                    }
                }
            ], 
            "metadata": {
                "collapsed": false
            }, 
            "cell_type": "code", 
            "execution_count": 8, 
            "source": "randIm()"
        }, 
        {
            "outputs": [
                {
                    "output_type": "stream", 
                    "text": "Actual digit is 5 predicted 5\n", 
                    "name": "stdout"
                }, 
                {
                    "output_type": "display_data", 
                    "metadata": {}, 
                    "data": {
                        "text/plain": "<matplotlib.figure.Figure at 0x7f50a2328150>", 
                        "image/png": "[encoded data removed]"
                    }
                }
            ], 
            "metadata": {
                "collapsed": false
            }, 
            "cell_type": "code", 
            "execution_count": 11, 
            "source": "randIm()"
        }, 
        {
            "metadata": {
                "collapsed": true
            }, 
            "cell_type": "markdown", 
            "source": "<a id=\"summary\"></a>\n## Summary\n\nIn this Python notebook, you learned how to access the MNIST database that contains sample handwritten numbers. You learned to train the DBN solver to recognize handwritten single digit numbers and evaluate the predicted numeric output.\n\n## Authors\n\n**Jorge Casta\u00f1\u00f3n** is a data scientist at IBM Analytics, specializing in machine learning and text analytics using Apache Spark and Hadoop.\n\nSome of the code used in this notebook was contributed by **Adrian Rosebrook**, entrepreneur and Chief PyImageSearcher at www.pyimagesearch.com. "
        }, 
        {
            "outputs": [], 
            "metadata": {
                "collapsed": true
            }, 
            "cell_type": "code", 
            "execution_count": null, 
            "source": ""
        }
    ], 
    "nbformat_minor": 0
}